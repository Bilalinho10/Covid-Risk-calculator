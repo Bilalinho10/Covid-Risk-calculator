{
  "nbformat": 4,
  "nbformat_minor": 0,
  "metadata": {
    "colab": {
      "name": "Covid Risk calculator.ipynb",
      "provenance": [],
      "collapsed_sections": []
    },
    "kernelspec": {
      "name": "python3",
      "display_name": "Python 3"
    },
    "language_info": {
      "name": "python"
    }
  },
  "cells": [
    {
      "cell_type": "code",
      "execution_count": null,
      "metadata": {
        "id": "8PwkqtCqwPeM"
      },
      "outputs": [],
      "source": [
        "print(\"Answer only with Yes or No\")\n",
        "age = input(\"Are you a cigarette addict older than 75 years old?: \".lower())\n",
        "chronic = input(\"Do you have a severe chronic disease?: \".lower())\n",
        "immune = input(\"Is your immune system too weak?: \".lower())\n",
        "risk = False\n",
        "\n",
        "if age == \"yes\" or chronic == \"yes\" or immune == \"yes\":\n",
        "    risk = True\n",
        "if age == \"yes\" or age ==\"no\" or chronic == \"yes\" or chronic == \"no\" or immune == \"yes\" or immune == \"no\":\n",
        "    if risk == True:\n",
        "      print(\"You are in a risky group\")\n",
        "    else:\n",
        "      print(\"You are not in a risky group\")\n",
        "else:\n",
        "    print(\"Wrong input. Please answer with yes or no!\")"
      ]
    }
  ]
}